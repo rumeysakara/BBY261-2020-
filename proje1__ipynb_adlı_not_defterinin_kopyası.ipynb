{
  "nbformat": 4,
  "nbformat_minor": 0,
  "metadata": {
    "colab": {
      "name": "proje1_.ipynb adlı not defterinin kopyası",
      "provenance": [],
      "collapsed_sections": [],
      "include_colab_link": true
    },
    "kernelspec": {
      "name": "python3",
      "display_name": "Python 3"
    }
  },
  "cells": [
    {
      "cell_type": "markdown",
      "metadata": {
        "id": "view-in-github",
        "colab_type": "text"
      },
      "source": [
        "<a href=\"https://colab.research.google.com/github/rumeysakara/BBY261-2020-/blob/main/proje1__ipynb_adl%C4%B1_not_defterinin_kopyas%C4%B1.ipynb\" target=\"_parent\"><img src=\"https://colab.research.google.com/assets/colab-badge.svg\" alt=\"Open In Colab\"/></a>"
      ]
    },
    {
      "cell_type": "code",
      "metadata": {
        "id": "-1L5_wwmKrs4",
        "outputId": "2148f430-b316-415d-becf-8675219a572d",
        "colab": {
          "base_uri": "https://localhost:8080/"
        }
      },
      "source": [
        "import string\n",
        "\n",
        "metin = \"Sözlük anlamıyla bilgi, öğrenme, araştırma ve gözlem yoluyla elde edilen her türlü gerçek, malumat ve kavrayışın tümüdür.\"\n",
        "yenimetin = \"\"\n",
        "for i in metin:\n",
        "  if i not in string.punctuation:\n",
        "    yenimetin += i\n",
        "print(yenimetin)\n",
        "\n",
        "kelime = input(\"Arama için kelime girişi yapınız: \")\n",
        "ara = yenimetin.find(kelime)\n",
        "bul = yenimetin.count(kelime)\n",
        "print(bul)\n",
        "\n"
      ],
      "execution_count": 6,
      "outputs": [
        {
          "output_type": "stream",
          "text": [
            "Sözlük anlamıyla bilgi öğrenme araştırma ve gözlem yoluyla elde edilen her türlü gerçek malumat ve kavrayışın tümüdür\n",
            "Arama için kelime girişi yapınız: gözlem\n",
            "1\n"
          ],
          "name": "stdout"
        }
      ]
    }
  ]
}