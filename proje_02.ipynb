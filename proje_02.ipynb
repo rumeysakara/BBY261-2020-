{
  "nbformat": 4,
  "nbformat_minor": 0,
  "metadata": {
    "colab": {
      "name": "proje_02.ipynb",
      "provenance": [],
      "collapsed_sections": [],
      "authorship_tag": "ABX9TyPJdzV8bBZcu8C3yQUzloo6",
      "include_colab_link": true
    },
    "kernelspec": {
      "name": "python3",
      "display_name": "Python 3"
    }
  },
  "cells": [
    {
      "cell_type": "markdown",
      "metadata": {
        "id": "view-in-github",
        "colab_type": "text"
      },
      "source": [
        "<a href=\"https://colab.research.google.com/github/rumeysakara/hu-bby261-2020/blob/main/proje_02.ipynb\" target=\"_parent\"><img src=\"https://colab.research.google.com/assets/colab-badge.svg\" alt=\"Open In Colab\"/></a>"
      ]
    },
    {
      "cell_type": "code",
      "metadata": {
        "id": "YP9qvnDMahN3",
        "outputId": "2a2dcfcc-8260-439e-8017-7e097d421739",
        "colab": {
          "base_uri": "https://localhost:8080/",
          "height": 504
        }
      },
      "source": [
        "import tensorflow as tf\n",
        "import numpy as np\n",
        "import logging\n",
        "import matplotlib.pyplot as plt\n",
        "logger = tf.get_logger()\n",
        "logger.setLevel(logging.ERROR)\n",
        "\n",
        "mil = np.array([1, 15, 20, 45, 62, 100, 115], dtype= float)\n",
        "km = np.array([2.15, 10.50, 15.0, 33.67, 50.70, 86.90, 150.85], dtype= float)\n",
        "\n",
        "islem = int(input(\"Mili Kilometreye çevirmek için 1'e , Kilometreyi Mile çevirmek için 2'ye basınız..\"))\n",
        "if islem == 1: \n",
        "  for i,c in enumerate(mil):\n",
        "    print(\"{} mil = {} km\". format(c, km[i]))\n",
        "\n",
        "  l0 = tf.keras.layers.Dense(units=1, input_shape=[1])\n",
        "  model = tf.keras.Sequential([l0])\n",
        "\n",
        "  model.compile(loss='mean_squared_error', optimizer=tf.keras.optimizers.Adam(0.1))\n",
        "\n",
        "  döngüdegeri = int(input(\"Yapay Zekaya Döngü Değeri Veriniz: \")) \n",
        "  history = model.fit(mil, km, epochs=döngüdegeri, verbose=False )\n",
        "  print(\"Döngü değerini tamamladı..\")\n",
        "\n",
        "  plt.xlabel('Döngü Değeri')\n",
        "  plt.ylabel('Loss')\n",
        "  plt.plot(history.history['loss'])\n",
        "\n",
        "  tahminmil = float(input(\"Tahmin için mil değeri giriniz: \"))\n",
        "  print(\"Tahmin edilen değer: {} mil\". format(model.predict([tahminmil])))\n",
        "  print(\"Gerçek değer: {} mil\". format(tahminmil/0.62))\n",
        "\n",
        "elif islem == 2:\n",
        "  for i,c in enumerate(km):\n",
        "    print(\"{} km = {} mil\". format(c, mil[i]))\n",
        "\n",
        "  l0 = tf.keras.layers.Dense(units=1, input_shape=[1])\n",
        "  model = tf.keras.Sequential([l0])\n",
        "  \n",
        "  model.compile(loss='mean_squared_error', optimizer=tf.keras.optimizers.Adam(0.1))\n",
        "\n",
        "  döngüdegeri = int(input(\"Yapay Zekaya Döngü Değeri Veriniz: \"))\n",
        "  history = model.fit(km, mil, epochs=döngüdegeri, verbose=False )\n",
        "  print(\"Döngü değerini tamamladı..\")\n",
        "\n",
        "  plt.xlabel('Döngü Değeri')\n",
        "  plt.ylabel('Loss')\n",
        "  plt.plot(history.history['loss'])\n",
        "\n",
        "  tahminkm = float(input(\"Tahmin için km değeri giriniz: \"))\n",
        "  print(\"Tahmin edilen değer: {} km\". format(model.predict([tahminkm])))\n",
        "  print(\"Gerçek değer: {} km\". format(tahminkm*0.62))\n",
        "\n",
        "\n"
      ],
      "execution_count": null,
      "outputs": [
        {
          "output_type": "stream",
          "text": [
            "Mili Kilometreye çevirmek için 1'e , Kilometreyi Mile çevirmek için 2'ye basınız..1\n",
            "1.0 mil = 2.15 km\n",
            "15.0 mil = 10.5 km\n",
            "20.0 mil = 15.0 km\n",
            "45.0 mil = 33.67 km\n",
            "62.0 mil = 50.7 km\n",
            "100.0 mil = 86.9 km\n",
            "115.0 mil = 150.85 km\n",
            "Yapay Zekaya Döngü Değeri Veriniz: 1000\n",
            "Döngü değerini tamamladı..\n",
            "Tahmin için mil değeri giriniz: 55\n",
            "Tahmin edilen değer: [[54.456116]] mil\n",
            "Gerçek değer: 88.70967741935483 mil\n"
          ],
          "name": "stdout"
        },
        {
          "output_type": "display_data",
          "data": {
            "image/png": "[encoded data removed]",
            "text/plain": [
              "<Figure size 432x288 with 1 Axes>"
            ]
          },
          "metadata": {
            "tags": [],
            "needs_background": "light"
          }
        }
      ]
    }
  ]
}