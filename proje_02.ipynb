{
  "nbformat": 4,
  "nbformat_minor": 0,
  "metadata": {
    "colab": {
      "name": "proje_02.ipynb adlı not defterinin kopyası",
      "provenance": [],
      "collapsed_sections": [],
      "authorship_tag": "ABX9TyMOBdvlQiFzN8dvHPBxADsj",
      "include_colab_link": true
    },
    "kernelspec": {
      "name": "python3",
      "display_name": "Python 3"
    }
  },
  "cells": [
    {
      "cell_type": "markdown",
      "metadata": {
        "id": "view-in-github",
        "colab_type": "text"
      },
      "source": [
        "<a href=\"https://colab.research.google.com/github/rumeysakara/hu-bby261-2020/blob/main/proje_02.ipynb\" target=\"_parent\"><img src=\"https://colab.research.google.com/assets/colab-badge.svg\" alt=\"Open In Colab\"/></a>"
      ]
    },
    {
      "cell_type": "code",
      "metadata": {
        "id": "YP9qvnDMahN3",
        "outputId": "d60782a5-8834-4d14-db51-38b7855f3af3",
        "colab": {
          "base_uri": "https://localhost:8080/",
          "height": 501
        }
      },
      "source": [
        "import tensorflow as tf\n",
        "import numpy as np\n",
        "import logging\n",
        "import matplotlib.pyplot as plt\n",
        "logger = tf.get_logger()\n",
        "logger.setLevel(logging.ERROR)\n",
        "\n",
        "mil = np.array([1, 10, 20, 39, 45, 52, 115], dtype= float)\n",
        "km = np.array([1.60, 16.0, 32.18 ,62.76, 72.42, 85.29, 185.07], dtype= float)\n",
        "\n",
        "islem = int(input(\"Mili Kilometreye çevirmek için 1'e , Kilometreyi Mile çevirmek için 2'ye , İşlemden çıkmak için 3'e basınız..\"))\n",
        "if islem == 1: \n",
        "  for i,c in enumerate(mil):\n",
        "    print(\"{} mil = {} km\". format(c, km[i]))\n",
        "\n",
        "  l0 = tf.keras.layers.Dense(units=1, input_shape=[1])\n",
        "  model = tf.keras.Sequential([l0])\n",
        "\n",
        "  model.compile(loss='mean_squared_error', optimizer=tf.keras.optimizers.Adam(0.1))\n",
        "\n",
        "  döngüdegeri = int(input(\"Yapay Zekaya Döngü Değeri Veriniz: \")) \n",
        "  history = model.fit(mil, km, epochs=döngüdegeri, verbose=False )\n",
        "  print(\"Döngü değerini tamamladı..\")\n",
        "\n",
        "  plt.xlabel('Döngü Değeri')\n",
        "  plt.ylabel('Loss')\n",
        "  plt.plot(history.history['loss'])\n",
        "\n",
        "  tahminmil = float(input(\"Tahmin için mil değeri giriniz: \"))\n",
        "  print(\"Tahmin edilen değer: {} mil\". format(model.predict([tahminmil])))\n",
        "  print(\"Gerçek değer: {} mil\". format(tahminmil/0.62))\n",
        "\n",
        "elif islem == 2:\n",
        "  for i,c in enumerate(km):\n",
        "    print(\"{} km = {} mil\". format(c, mil[i]))\n",
        "\n",
        "  l0 = tf.keras.layers.Dense(units=1, input_shape=[1])\n",
        "  model = tf.keras.Sequential([l0])\n",
        "  \n",
        "  model.compile(loss='mean_squared_error', optimizer=tf.keras.optimizers.Adam(0.1))\n",
        "\n",
        "  döngüdegeri = int(input(\"Yapay Zekaya Döngü Değeri Veriniz: \"))\n",
        "  history = model.fit(km, mil, epochs=döngüdegeri, verbose=False )\n",
        "  print(\"Döngü değerini tamamladı..\")\n",
        "\n",
        "  plt.xlabel('Döngü Değeri')\n",
        "  plt.ylabel('Loss')\n",
        "  plt.plot(history.history['loss'])\n",
        "\n",
        "  tahminkm = float(input(\"Tahmin için km değeri giriniz: \"))\n",
        "  print(\"Tahmin edilen değer: {} km\". format(model.predict([tahminkm])))\n",
        "  print(\"Gerçek değer: {} km\". format(tahminkm*0.62))\n",
        "\n",
        "else:\n",
        "  print(\"Çıkış Yapılıyor..\")\n",
        "\n",
        "\n"
      ],
      "execution_count": 2,
      "outputs": [
        {
          "output_type": "stream",
          "text": [
            "Mili Kilometreye çevirmek için 1'e , Kilometreyi Mile çevirmek için 2'ye , İşlemden çıkmak için 3'e basınız..2\n",
            "1.6 km = 1.0 mil\n",
            "16.0 km = 10.0 mil\n",
            "32.18 km = 20.0 mil\n",
            "62.76 km = 39.0 mil\n",
            "72.42 km = 45.0 mil\n",
            "85.29 km = 52.0 mil\n",
            "185.07 km = 115.0 mil\n",
            "Yapay Zekaya Döngü Değeri Veriniz: 500\n",
            "Döngü değerini tamamladı..\n",
            "Tahmin için km değeri giriniz: 60\n",
            "Tahmin edilen değer: [[37.559986]] km\n",
            "Gerçek değer: 37.2 km\n"
          ],
          "name": "stdout"
        },
        {
          "output_type": "display_data",
          "data": {
            "image/png": "[encoded data removed]",
            "text/plain": [
              "<Figure size 432x288 with 1 Axes>"
            ]
          },
          "metadata": {
            "tags": [],
            "needs_background": "light"
          }
        }
      ]
    }
  ]
}