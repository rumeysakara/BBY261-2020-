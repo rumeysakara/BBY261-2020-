{
  "nbformat": 4,
  "nbformat_minor": 0,
  "metadata": {
    "colab": {
      "name": "proje_02.ipynb",
      "provenance": [],
      "collapsed_sections": [],
      "authorship_tag": "ABX9TyNOrS9QOXossutJufmCOa02",
      "include_colab_link": true
    },
    "kernelspec": {
      "name": "python3",
      "display_name": "Python 3"
    }
  },
  "cells": [
    {
      "cell_type": "markdown",
      "metadata": {
        "id": "view-in-github",
        "colab_type": "text"
      },
      "source": [
        "<a href=\"https://colab.research.google.com/github/rumeysakara/BBY261-2020-/blob/main/proje_02.ipynb\" target=\"_parent\"><img src=\"https://colab.research.google.com/assets/colab-badge.svg\" alt=\"Open In Colab\"/></a>"
      ]
    },
    {
      "cell_type": "code",
      "metadata": {
        "id": "YP9qvnDMahN3",
        "outputId": "0d3819e0-36cc-401e-ef4d-39b42b339767",
        "colab": {
          "base_uri": "https://localhost:8080/",
          "height": 487
        }
      },
      "source": [
        "import tensorflow as tf\n",
        "import numpy as np\n",
        "import logging\n",
        "import matplotlib.pyplot as plt\n",
        "logger = tf.get_logger()\n",
        "logger.setLevel(logging.ERROR)\n",
        "\n",
        "mil = np.array([1, 15, 20, 45, 62, 100, 115], dtype= float)\n",
        "km = np.array([2.15, 10.50, 15.0, 33.67, 50.70, 86.90, 150.85], dtype= float)\n",
        "\n",
        "for i,c in enumerate(km):\n",
        "  print(\"{} mil = {} km\". format(c, km[i]))\n",
        "\n",
        "l0 = tf.keras.layers.Dense(units=1, input_shape=[1])\n",
        "model = tf.keras.Sequential([l0])\n",
        "\n",
        "model.compile(loss='mean_squared_error', optimizer=tf.keras.optimizers.Adam(0.1))\n",
        "\n",
        "döngüdegeri = int(input(\"Yapay Zekaya Döngü Değeri Veriniz: \")) \n",
        "history = model.fit(mil, km, epochs=döngüdegeri, verbose=False )\n",
        "print(\"Döngü değerini tamamladı..\")\n",
        "\n",
        "plt.xlabel('Döngü Değeri')\n",
        "plt.ylabel('Loss')\n",
        "plt.plot(history.history['loss'])\n",
        "\n",
        "tahminmil = float(input(\"Tahmin için mil değeri giriniz: \"))\n",
        "print(\"Tahmin edilen değer: {} mil\". format(model.predict([tahminmil])))\n",
        "print(\"Gerçek değer: {} mil\". format(tahminmil*0.62))\n",
        "\n",
        "\n",
        "\n",
        "\n",
        "\n",
        "\n",
        "\n",
        "\n",
        "\n",
        "\n",
        "\n",
        "\n",
        "\n",
        "\n",
        "\n",
        "\n",
        "\n",
        "\n"
      ],
      "execution_count": 2,
      "outputs": [
        {
          "output_type": "stream",
          "text": [
            "2.15 mil = 2.15 km\n",
            "10.5 mil = 10.5 km\n",
            "15.0 mil = 15.0 km\n",
            "33.67 mil = 33.67 km\n",
            "50.7 mil = 50.7 km\n",
            "86.9 mil = 86.9 km\n",
            "150.85 mil = 150.85 km\n",
            "Yapay Zekaya Döngü Değeri Veriniz: 1000\n",
            "Döngü değerini tamamladı..\n",
            "Tahmin için mil değeri giriniz: 55\n",
            "Tahmin edilen değer: [[54.451954]] mil\n",
            "Gerçek değer: 34.1 mil\n"
          ],
          "name": "stdout"
        },
        {
          "output_type": "display_data",
          "data": {
            "image/png": "[encoded data removed]",
            "text/plain": [
              "<Figure size 432x288 with 1 Axes>"
            ]
          },
          "metadata": {
            "tags": [],
            "needs_background": "light"
          }
        }
      ]
    }
  ]
}